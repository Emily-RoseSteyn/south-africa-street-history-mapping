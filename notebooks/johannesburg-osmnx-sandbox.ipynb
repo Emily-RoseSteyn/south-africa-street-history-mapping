{
 "cells": [
  {
   "cell_type": "code",
   "id": "initial_id",
   "metadata": {
    "collapsed": true,
    "ExecuteTime": {
     "end_time": "2024-06-28T08:08:35.699395Z",
     "start_time": "2024-06-28T08:08:29.291188Z"
    }
   },
   "source": [
    "import osmnx as ox\n",
    "ox.citation()"
   ],
   "outputs": [
    {
     "name": "stdout",
     "output_type": "stream",
     "text": [
      "@article{boeing_osmnx_2017,\n",
      "    title = {{OSMnx}: {New} {Methods} for {Acquiring}, {Constructing}, {Analyzing}, and {Visualizing} {Complex} {Street} {Networks}},\n",
      "    volume = {65},\n",
      "    doi = {10.1016/j.compenvurbsys.2017.05.004},\n",
      "    number = {126-139},\n",
      "    journal = {Computers, Environment and Urban Systems},\n",
      "    author = {Boeing, Geoff},\n",
      "    year = {2017},\n",
      "    pages = {126--139}\n",
      "}\n"
     ]
    }
   ],
   "execution_count": 1
  },
  {
   "metadata": {
    "ExecuteTime": {
     "end_time": "2024-06-28T08:09:15.619887Z",
     "start_time": "2024-06-28T08:09:15.600476Z"
    }
   },
   "cell_type": "code",
   "source": [
    "point = ox.geocode('Johannesburg')\n",
    "point"
   ],
   "id": "96df1e0de1765ff8",
   "outputs": [
    {
     "data": {
      "text/plain": [
       "(-26.205, 28.049722)"
      ]
     },
     "execution_count": 3,
     "metadata": {},
     "output_type": "execute_result"
    }
   ],
   "execution_count": 3
  },
  {
   "metadata": {
    "ExecuteTime": {
     "end_time": "2024-06-28T08:45:47.613814Z",
     "start_time": "2024-06-28T08:45:47.594066Z"
    }
   },
   "cell_type": "code",
   "source": "ox.utils_geo.bbox_from_point(point, dist=30000)",
   "id": "1fc70482db119a90",
   "outputs": [
    {
     "data": {
      "text/plain": [
       "(-25.935203899352132,\n",
       " -26.474796100647865,\n",
       " 28.350424335526135,\n",
       " 27.749019664473863)"
      ]
     },
     "execution_count": 18,
     "metadata": {},
     "output_type": "execute_result"
    }
   ],
   "execution_count": 18
  },
  {
   "metadata": {
    "ExecuteTime": {
     "end_time": "2024-06-28T08:29:14.332423Z",
     "start_time": "2024-06-28T08:29:14.277143Z"
    }
   },
   "cell_type": "code",
   "source": "ox.utils_geo.bbox_from_point(point, dist=30000, project_utm=True, return_crs=False)",
   "id": "4ac4ebeadc7fa1fb",
   "outputs": [
    {
     "data": {
      "text/plain": [
       "(7131277.46697104, 7071026.4963703565, 635229.1577940845, 574657.5376353478)"
      ]
     },
     "execution_count": 17,
     "metadata": {},
     "output_type": "execute_result"
    }
   ],
   "execution_count": 17
  }
 ],
 "metadata": {
  "kernelspec": {
   "display_name": "Python 3",
   "language": "python",
   "name": "python3"
  },
  "language_info": {
   "codemirror_mode": {
    "name": "ipython",
    "version": 2
   },
   "file_extension": ".py",
   "mimetype": "text/x-python",
   "name": "python",
   "nbconvert_exporter": "python",
   "pygments_lexer": "ipython2",
   "version": "2.7.6"
  }
 },
 "nbformat": 4,
 "nbformat_minor": 5
}
