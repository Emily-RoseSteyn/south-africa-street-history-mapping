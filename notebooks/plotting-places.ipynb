{
 "cells": [
  {
   "cell_type": "markdown",
   "source": [
    "# Using my code to plot specific places "
   ],
   "metadata": {
    "collapsed": false
   },
   "id": "b5754eb7ea22a13c"
  },
  {
   "cell_type": "code",
   "execution_count": 17,
   "id": "initial_id",
   "metadata": {
    "collapsed": true,
    "ExecuteTime": {
     "end_time": "2024-02-22T12:02:42.840263700Z",
     "start_time": "2024-02-22T12:02:42.635920800Z"
    }
   },
   "outputs": [
    {
     "name": "stdout",
     "output_type": "stream",
     "text": [
      "C:\\Users\\emily\\Documents\\repos\n",
      "The autoreload extension is already loaded. To reload it, use:\n",
      "  %reload_ext autoreload\n"
     ]
    }
   ],
   "source": [
    "# NB! Only run this once\n",
    "%cd ..\n",
    "%load_ext autoreload\n",
    "%autoreload 2"
   ]
  },
  {
   "cell_type": "code",
   "outputs": [],
   "source": [
    "from mapping.country_colour_map import get_colour\n",
    "from mapping.main import map_origin_of_address"
   ],
   "metadata": {
    "collapsed": false,
    "ExecuteTime": {
     "end_time": "2024-02-22T12:02:42.966405200Z",
     "start_time": "2024-02-22T12:02:42.843260Z"
    }
   },
   "id": "1add61caf1095b99",
   "execution_count": 18
  },
  {
   "cell_type": "code",
   "outputs": [],
   "source": [
    "default_distance = 5000\n",
    "default_line_width = 1"
   ],
   "metadata": {
    "collapsed": false,
    "ExecuteTime": {
     "end_time": "2024-02-22T12:02:42.999212700Z",
     "start_time": "2024-02-22T12:02:42.900649Z"
    }
   },
   "id": "2292df55c53a0f42",
   "execution_count": 19
  },
  {
   "cell_type": "markdown",
   "source": [
    "# Kensington"
   ],
   "metadata": {
    "collapsed": false
   },
   "id": "6adf0c07fdee007f"
  },
  {
   "cell_type": "code",
   "outputs": [
    {
     "name": "stderr",
     "output_type": "stream",
     "text": [
      "2024-02-22 14:02:43 | INFO | Mapping origins of address Kensington, Johannesburg, South Africa within 5000 meters\n"
     ]
    }
   ],
   "source": [
    "address = \"Kensington, Johannesburg, South Africa\"\n",
    "graph_kensington, gdf_kensington, map_fig_kensington = map_origin_of_address(address, default_distance, default_line_width, True)\n",
    "# gdf_kensington.explore(column=\"origin\", color=lambda x: get_colour(x))"
   ],
   "metadata": {
    "collapsed": false,
    "is_executing": true,
    "ExecuteTime": {
     "start_time": "2024-02-22T12:02:42.962404900Z"
    }
   },
   "id": "4c39a5538fa7347d",
   "execution_count": null
  },
  {
   "cell_type": "markdown",
   "source": [
    "# Soweto"
   ],
   "metadata": {
    "collapsed": false
   },
   "id": "ac12b96261ec6fe3"
  },
  {
   "cell_type": "code",
   "outputs": [],
   "source": [
    "address = \"Soweto, South Africa\"\n",
    "graph_soweto, gdf_soweto, map_fig_soweto = map_origin_of_address(address, default_distance, default_line_width, True)\n",
    "# gdf_soweto.explore(column=\"origin\", color=lambda x: get_colour(x))"
   ],
   "metadata": {
    "collapsed": false,
    "is_executing": true
   },
   "id": "9cf0e814f7f5314",
   "execution_count": null
  },
  {
   "cell_type": "markdown",
   "source": [
    "# Sandhurst"
   ],
   "metadata": {
    "collapsed": false
   },
   "id": "144c91b89896859f"
  },
  {
   "cell_type": "code",
   "outputs": [],
   "source": [
    "address = \"Sandhurst, Johannesburg, South Africa\"\n",
    "graph_sandhurst, gdf_sandhurst, map_fig_sandhurst = map_origin_of_address(address, default_distance, default_line_width)\n",
    "# gdf_sandhurst.explore(column=\"origin\", color=lambda x: get_colour(x))"
   ],
   "metadata": {
    "collapsed": false,
    "is_executing": true
   },
   "id": "df79c114c38e701a",
   "execution_count": null
  },
  {
   "cell_type": "markdown",
   "source": [
    "# Honeydew"
   ],
   "metadata": {
    "collapsed": false
   },
   "id": "c8dbb142d65f2b4e"
  },
  {
   "cell_type": "code",
   "outputs": [],
   "source": [
    "address = \"Honeydew, Johannesburg, South Africa\"\n",
    "graph_honeydew, gdf_honeydew, map_fig_honeydew = map_origin_of_address(address, default_distance, default_line_width)\n",
    "# gdf_honeydew.explore(column=\"origin\", color=lambda x: get_colour(x))"
   ],
   "metadata": {
    "collapsed": false,
    "is_executing": true
   },
   "id": "69ca52757b0d6598",
   "execution_count": null
  },
  {
   "cell_type": "markdown",
   "source": [
    "# Cosmo City"
   ],
   "metadata": {
    "collapsed": false
   },
   "id": "845b05806176fb67"
  },
  {
   "cell_type": "code",
   "outputs": [],
   "source": [
    "address = \"Cosmo City, Johannesburg, South Africa\"\n",
    "graph_cosmo_city, gdf_cosmo_city, map_fig_cosmo_city = map_origin_of_address(address, default_distance, default_line_width)\n",
    "# gdf_cosmo_city.explore(column=\"origin\", color=lambda x: get_colour(x))"
   ],
   "metadata": {
    "collapsed": false,
    "is_executing": true
   },
   "id": "95c2337f1dd2f0ee",
   "execution_count": null
  },
  {
   "cell_type": "markdown",
   "source": [
    "# Franschoek"
   ],
   "metadata": {
    "collapsed": false
   },
   "id": "744701a05606b275"
  },
  {
   "cell_type": "code",
   "outputs": [],
   "source": [
    "address = \"Franschoek, South Africa\"\n",
    "graph_franschoek, gdf_franschoek, map_fig_franschoek = map_origin_of_address(address, default_distance, default_line_width)\n",
    "# gdf_franschoek.explore(column=\"origin\", color=lambda x: get_colour(x))"
   ],
   "metadata": {
    "collapsed": false,
    "is_executing": true
   },
   "id": "d3d158bed96065e1",
   "execution_count": null
  },
  {
   "cell_type": "markdown",
   "source": [
    "# Stellenbosch"
   ],
   "metadata": {
    "collapsed": false
   },
   "id": "de0b88a4dd0939b7"
  },
  {
   "cell_type": "code",
   "outputs": [],
   "source": [
    "address = \"Stellenbosch, South Africa\"\n",
    "graph_stellenbosch, gdf_stellenbosch, map_fig_stellenbosch = map_origin_of_address(address, default_distance, default_line_width)\n",
    "# gdf_stellenbosch.explore(column=\"origin\", color=lambda x: get_colour(x))"
   ],
   "metadata": {
    "collapsed": false,
    "is_executing": true
   },
   "id": "1c47f95e58f7dde0",
   "execution_count": null
  },
  {
   "cell_type": "markdown",
   "source": [
    "# Tulbagh"
   ],
   "metadata": {
    "collapsed": false
   },
   "id": "a54a35f613edeec7"
  },
  {
   "cell_type": "code",
   "outputs": [],
   "source": [
    "address = \"Tulbagh, South Africa\"\n",
    "graph_tulbagh, gdf_tulbagh, map_fig_tulbagh = map_origin_of_address(address, default_distance, default_line_width)\n",
    "# gdf_stellenbosch.explore(column=\"origin\", color=lambda x: get_colour(x))"
   ],
   "metadata": {
    "collapsed": false,
    "is_executing": true
   },
   "id": "28ae67a912e0e398",
   "execution_count": null
  }
 ],
 "metadata": {
  "kernelspec": {
   "display_name": "Python 3",
   "language": "python",
   "name": "python3"
  },
  "language_info": {
   "codemirror_mode": {
    "name": "ipython",
    "version": 2
   },
   "file_extension": ".py",
   "mimetype": "text/x-python",
   "name": "python",
   "nbconvert_exporter": "python",
   "pygments_lexer": "ipython2",
   "version": "2.7.6"
  }
 },
 "nbformat": 4,
 "nbformat_minor": 5
}
