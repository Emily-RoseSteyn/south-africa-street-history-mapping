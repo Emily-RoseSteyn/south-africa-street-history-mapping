{
 "cells": [
  {
   "cell_type": "markdown",
   "source": [
    "# Using my code to plot specific places "
   ],
   "metadata": {
    "collapsed": false
   },
   "id": "b5754eb7ea22a13c"
  },
  {
   "cell_type": "code",
   "execution_count": 1,
   "id": "initial_id",
   "metadata": {
    "collapsed": true,
    "ExecuteTime": {
     "end_time": "2024-02-22T03:35:19.407158Z",
     "start_time": "2024-02-22T03:35:19.368727400Z"
    }
   },
   "outputs": [
    {
     "name": "stdout",
     "output_type": "stream",
     "text": [
      "C:\\Users\\emily\\Documents\\repos\\south-africa-street-history-mapping\n"
     ]
    }
   ],
   "source": [
    "# NB! Only run this once\n",
    "%cd ..\n",
    "%load_ext autoreload\n",
    "%autoreload 2"
   ]
  },
  {
   "cell_type": "code",
   "outputs": [],
   "source": [
    "from mapping.country_colour_map import get_colour\n",
    "from mapping.main import map_origin_of_address"
   ],
   "metadata": {
    "collapsed": false,
    "ExecuteTime": {
     "end_time": "2024-02-22T03:35:21.034931400Z",
     "start_time": "2024-02-22T03:35:19.408157900Z"
    }
   },
   "id": "1add61caf1095b99",
   "execution_count": 2
  },
  {
   "cell_type": "code",
   "outputs": [],
   "source": [
    "default_distance = 5000\n",
    "default_line_width = 1"
   ],
   "metadata": {
    "collapsed": false,
    "ExecuteTime": {
     "end_time": "2024-02-22T03:35:21.083084100Z",
     "start_time": "2024-02-22T03:35:21.035931800Z"
    }
   },
   "id": "2292df55c53a0f42",
   "execution_count": 3
  },
  {
   "cell_type": "markdown",
   "source": [
    "# Kensington"
   ],
   "metadata": {
    "collapsed": false
   },
   "id": "6adf0c07fdee007f"
  },
  {
   "cell_type": "code",
   "outputs": [
    {
     "name": "stderr",
     "output_type": "stream",
     "text": [
      "2024-02-22 07:38:03 | INFO | Mapping origins of address Kensington, Johannesburg, South Africa within 5000 meters\n"
     ]
    }
   ],
   "source": [
    "address = \"Kensington, Johannesburg, South Africa\"\n",
    "graph_kensington, gdf_kensington, map_fig_kensington = map_origin_of_address(address, default_distance, default_line_width)\n",
    "gdf_kensington.explore(column=\"origin\", color=lambda x: get_colour(x))"
   ],
   "metadata": {
    "collapsed": false,
    "is_executing": true,
    "ExecuteTime": {
     "start_time": "2024-02-22T05:38:03.285125700Z"
    }
   },
   "id": "4c39a5538fa7347d",
   "execution_count": null
  },
  {
   "cell_type": "markdown",
   "source": [
    "# Soweto"
   ],
   "metadata": {
    "collapsed": false
   },
   "id": "ac12b96261ec6fe3"
  },
  {
   "cell_type": "code",
   "outputs": [],
   "source": [
    "address = \"Soweto, South Africa\"\n",
    "graph_soweto, gdf_soweto, map_fig_soweto = map_origin_of_address(address, default_distance, default_line_width)\n",
    "gdf_soweto.explore(column=\"origin\", color=lambda x: get_colour(x))"
   ],
   "metadata": {
    "collapsed": false,
    "ExecuteTime": {
     "start_time": "2024-02-22T03:36:56.040476600Z"
    }
   },
   "id": "9cf0e814f7f5314",
   "execution_count": null
  },
  {
   "cell_type": "markdown",
   "source": [
    "# Sandhurst"
   ],
   "metadata": {
    "collapsed": false
   },
   "id": "144c91b89896859f"
  },
  {
   "cell_type": "code",
   "outputs": [],
   "source": [
    "address = \"Sandhurst, Johannesburg, South Africa\"\n",
    "graph_sandhurst, gdf_sandhurst, map_fig_sandhurst = map_origin_of_address(address, default_distance, default_line_width)\n",
    "gdf_sandhurst.explore(column=\"origin\", color=lambda x: get_colour(x))"
   ],
   "metadata": {
    "collapsed": false,
    "ExecuteTime": {
     "start_time": "2024-02-22T03:36:56.041800700Z"
    }
   },
   "id": "df79c114c38e701a",
   "execution_count": null
  },
  {
   "cell_type": "markdown",
   "source": [
    "# Honeydew"
   ],
   "metadata": {
    "collapsed": false
   },
   "id": "c8dbb142d65f2b4e"
  },
  {
   "cell_type": "code",
   "outputs": [],
   "source": [
    "address = \"Honeydew, Johannesburg, South Africa\"\n",
    "graph_honeydew, gdf_honeydew, map_fig_honeydew = map_origin_of_address(address, default_distance, default_line_width)\n",
    "gdf_honeydew.explore(column=\"origin\", color=lambda x: get_colour(x))"
   ],
   "metadata": {
    "collapsed": false,
    "ExecuteTime": {
     "end_time": "2024-02-22T03:36:56.047838100Z",
     "start_time": "2024-02-22T03:36:56.044914800Z"
    }
   },
   "id": "69ca52757b0d6598",
   "execution_count": null
  },
  {
   "cell_type": "markdown",
   "source": [
    "# Cosmo City"
   ],
   "metadata": {
    "collapsed": false
   },
   "id": "845b05806176fb67"
  },
  {
   "cell_type": "code",
   "outputs": [],
   "source": [
    "address = \"Cosmo City, Johannesburg, South Africa\"\n",
    "graph_cosmo_city, gdf_cosmo_city, map_fig_cosmo_city = map_origin_of_address(address, default_distance, default_line_width)\n",
    "gdf_cosmo_city.explore(column=\"origin\", color=lambda x: get_colour(x))"
   ],
   "metadata": {
    "collapsed": false,
    "ExecuteTime": {
     "start_time": "2024-02-22T03:36:56.046921400Z"
    }
   },
   "id": "95c2337f1dd2f0ee",
   "execution_count": null
  },
  {
   "cell_type": "markdown",
   "source": [
    "# Franschoek"
   ],
   "metadata": {
    "collapsed": false
   },
   "id": "744701a05606b275"
  },
  {
   "cell_type": "code",
   "outputs": [],
   "source": [],
   "metadata": {
    "collapsed": false,
    "ExecuteTime": {
     "start_time": "2024-02-22T03:36:56.048976800Z"
    }
   },
   "id": "d3d158bed96065e1"
  },
  {
   "cell_type": "markdown",
   "source": [
    "# Tulbagh"
   ],
   "metadata": {
    "collapsed": false
   },
   "id": "a54a35f613edeec7"
  },
  {
   "cell_type": "code",
   "outputs": [],
   "source": [],
   "metadata": {
    "collapsed": false,
    "ExecuteTime": {
     "start_time": "2024-02-22T03:36:56.049983Z"
    }
   },
   "id": "28ae67a912e0e398"
  }
 ],
 "metadata": {
  "kernelspec": {
   "display_name": "Python 3",
   "language": "python",
   "name": "python3"
  },
  "language_info": {
   "codemirror_mode": {
    "name": "ipython",
    "version": 2
   },
   "file_extension": ".py",
   "mimetype": "text/x-python",
   "name": "python",
   "nbconvert_exporter": "python",
   "pygments_lexer": "ipython2",
   "version": "2.7.6"
  }
 },
 "nbformat": 4,
 "nbformat_minor": 5
}
